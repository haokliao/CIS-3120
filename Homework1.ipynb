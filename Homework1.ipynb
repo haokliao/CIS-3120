{
 "cells": [
  {
   "cell_type": "code",
   "execution_count": 1,
   "metadata": {},
   "outputs": [],
   "source": [
    "#importing required libraries for assignment\n",
    "import requests\n",
    "from bs4 import BeautifulSoup as soup"
   ]
  },
  {
   "cell_type": "code",
   "execution_count": 20,
   "metadata": {},
   "outputs": [],
   "source": [
    "#creating efficiency through functions to reduce repeated code. function takes one argument, a URL.\n",
    "\n",
    "def get_heights(url):\n",
    "  #parser variable will send a get request to the url, and retrieve the content of page in HTML.\n",
    "  parser = soup(requests.get(url).content, 'html.parser')\n",
    "  #spans variable will find all spans within the HTML that's parsed\n",
    "  #looks specifically for the HTML span class, sidearm-roster-player-height for player height and puts in list.\n",
    "  spans = parser.find_all('span', {'class':'sidearm-roster-player-height'})\n",
    "\n",
    "  #data wrangling step\n",
    "  #creating list heights\n",
    "  heights = []\n",
    "  \n",
    "  #going through the spans list to both:\n",
    "  #strip the end text (\") and get the text inside the span, appending and getting us a list of just our heights in feet and inches\n",
    "  for span in spans:\n",
    "    heights.append(span.find(text=True).strip('\"'))\n",
    "  \n",
    "  return heights"
   ]
  },
  {
   "cell_type": "code",
   "execution_count": 7,
   "metadata": {},
   "outputs": [],
   "source": [
    "#creating function to average the heights, taking input fun, a list of heights\n",
    "\n",
    "def avger(fun) :\n",
    "  result = []\n",
    "  #iterating through the input, splitting between feet and inches\n",
    "  for i in fun:\n",
    "    #splitting by ('), to two variables feet and inches\n",
    "    Feet, Inch = i.split(\"'\")\n",
    "    #appending to empty results list, the output of each iteration which converts feet to inches\n",
    "    result.append(int(Feet)*12 + int(Inch))\n",
    "    #return the average of the result\n",
    "  return sum(result)/len(result)"
   ]
  },
  {
   "cell_type": "markdown",
   "metadata": {},
   "source": [
    "Question 1:\n",
    "\n",
    " Scrape the heights of all the players on the men’s swimming team and find the average."
   ]
  },
  {
   "cell_type": "code",
   "execution_count": 17,
   "metadata": {},
   "outputs": [
    {
     "name": "stdout",
     "output_type": "stream",
     "text": [
      "The average Men's Swimming team member is 71.53 inches\n"
     ]
    }
   ],
   "source": [
    "avg_ms_height = round(avger(get_heights('https://athletics.baruch.cuny.edu/sports/mens-swimming-and-diving/roster')),2)\n",
    "print(f'The average Men\\'s Swimming team member is {avg_ms_height} inches')"
   ]
  },
  {
   "cell_type": "markdown",
   "metadata": {},
   "source": [
    "Question 2:\n",
    "\n",
    " Scrape the heights of all the players on the men’s volleyball team and find the average.\n"
   ]
  },
  {
   "cell_type": "code",
   "execution_count": 21,
   "metadata": {},
   "outputs": [
    {
     "name": "stdout",
     "output_type": "stream",
     "text": [
      "The average Men's Volleyball team member is 73.27 inches\n"
     ]
    }
   ],
   "source": [
    "avg_mv_height = round(avger(get_heights('https://athletics.baruch.cuny.edu/sports/mens-volleyball/roster')),2)\n",
    "print(f'The average Men\\'s Volleyball team member is {avg_mv_height} inches')"
   ]
  },
  {
   "cell_type": "markdown",
   "metadata": {},
   "source": [
    "Question 3:\n",
    "\n",
    "Scrape the heights of all the players on the women’s swimming team and find the\n",
    "average.\n"
   ]
  },
  {
   "cell_type": "code",
   "execution_count": 15,
   "metadata": {},
   "outputs": [
    {
     "name": "stdout",
     "output_type": "stream",
     "text": [
      "The average Women's Swimming team member is 64.0 inches\n"
     ]
    }
   ],
   "source": [
    "avg_ws_height = round(avger(get_heights('https://athletics.baruch.cuny.edu/sports/womens-swimming-and-diving/roster')),2)\n",
    "print(f'The average Women\\'s Swimming team member is {avg_ws_height} inches')"
   ]
  },
  {
   "cell_type": "markdown",
   "metadata": {},
   "source": [
    "Question 4:\n",
    "\n",
    "Scrape the heights of all the players on the women’s volleyball team and find the\n",
    "average.\n"
   ]
  },
  {
   "cell_type": "code",
   "execution_count": 19,
   "metadata": {},
   "outputs": [
    {
     "name": "stdout",
     "output_type": "stream",
     "text": [
      "The average Women's Volleyball team member is 65.33 inches\n"
     ]
    }
   ],
   "source": [
    "avg_wv_height = round(avger(get_heights('https://athletics.baruch.cuny.edu/sports/womens-volleyball/roster')),2)\n",
    "print(f'The average Women\\'s Volleyball team member is {avg_wv_height} inches')"
   ]
  },
  {
   "cell_type": "markdown",
   "metadata": {},
   "source": [
    "Question 5:\n",
    "\n",
    "Compare the averages between the two men’s teams. Write a few lines about your\n",
    "findings"
   ]
  },
  {
   "cell_type": "code",
   "execution_count": 27,
   "metadata": {},
   "outputs": [
    {
     "name": "stdout",
     "output_type": "stream",
     "text": [
      "The men's volleyball team average sits at 73.27 inches, a whole 1.74 inches over the men's swimming team at 71.53 inches\n",
      "While looking at averages, I find that outliers are always the most interesting;\n",
      "In this case, the difference of shortest team members between the two teams are 1 inch between their shortest, but a whole two inches between the tallest.\n",
      "With the Volleyball team's middle hitter sitting at a whopping 6'7. \n"
     ]
    }
   ],
   "source": [
    "print(f'The men\\'s volleyball team average sits at {avg_mv_height} inches, a whole {round(avg_mv_height-avg_ms_height,2)} inches over the men\\'s swimming team at {avg_ms_height} inches')\n",
    "print(f'While looking at averages, I find that outliers are always the most interesting;')\n",
    "print(f'In this case, the difference of shortest team members between the two teams are 1 inch between their shortest, but a whole two inches between the tallest.')\n",
    "print(f'With the Volleyball team\\'s middle hitter sitting at a whopping 6\\'7. ')"
   ]
  },
  {
   "cell_type": "markdown",
   "metadata": {},
   "source": [
    "Question 6: \n",
    "\n",
    "Compare the averages between the two women’s teams. Write a few lines about your\n",
    "findings.\n"
   ]
  },
  {
   "cell_type": "code",
   "execution_count": 28,
   "metadata": {},
   "outputs": [
    {
     "name": "stdout",
     "output_type": "stream",
     "text": [
      "The women's volleyball team average sits at 65.33 inches, a whole 1.33 inches over the women's swimming team at 64.0 inches\n"
     ]
    }
   ],
   "source": [
    "print(f'The women\\'s volleyball team average sits at {avg_wv_height} inches, {round(avg_wv_height-avg_ws_height,2)} inches over the women\\'s swimming team at {avg_ws_height} inches')\n",
    "print(f'In comparison to the men\\'s teams, this difference is not as wide, with no big outliers between the two teams,')\n",
    "print('as both the respective tallest and shortest members of each team only vary by a single inch')"
   ]
  },
  {
   "cell_type": "markdown",
   "metadata": {},
   "source": [
    "Question 7:\n",
    "\n",
    "Are you able to determine whether, in general, if the average swimmer is taller than the average volleyball player? Write a few lines about your findings.\n"
   ]
  },
  {
   "cell_type": "markdown",
   "metadata": {},
   "source": [
    "Between the two teams, we can determine that the volleyball team members on average are taller than the swimming team members for both genders. However, with such a small and limited sample size, we're unable to determine anything in general about average heights between the two in good faith."
   ]
  }
 ],
 "metadata": {
  "interpreter": {
   "hash": "916dbcbb3f70747c44a77c7bcd40155683ae19c65e1c03b4aa3499c5328201f1"
  },
  "kernelspec": {
   "display_name": "Python 3.8.5 64-bit",
   "language": "python",
   "name": "python3"
  },
  "language_info": {
   "codemirror_mode": {
    "name": "ipython",
    "version": 3
   },
   "file_extension": ".py",
   "mimetype": "text/x-python",
   "name": "python",
   "nbconvert_exporter": "python",
   "pygments_lexer": "ipython3",
   "version": "3.8.5"
  },
  "orig_nbformat": 4
 },
 "nbformat": 4,
 "nbformat_minor": 2
}
