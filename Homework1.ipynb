{
 "cells": [
  {
   "cell_type": "code",
   "execution_count": 156,
   "metadata": {},
   "outputs": [],
   "source": [
    "import requests\n",
    "from bs4 import BeautifulSoup as soup"
   ]
  },
  {
   "cell_type": "code",
   "execution_count": null,
   "metadata": {},
   "outputs": [],
   "source": [
    "def heights(url):\n",
    "  parser = soup(requests.get(url).content, 'html.parser')\n",
    "  parser.find_all('span', {'class':'sidearm-roster-player-height'})\n",
    "  heights = []\n",
    "  for span in ms_span:\n",
    "    heights.append(span.find(text=True).strip('\"'))\n",
    "  return heights"
   ]
  },
  {
   "cell_type": "code",
   "execution_count": 162,
   "metadata": {},
   "outputs": [],
   "source": [
    "def avger(fun) :\n",
    "  result = []\n",
    "  for i in fun:\n",
    "    Feet, Inch = i.split(\"'\")\n",
    "    result.append(int(Feet)*12 + int(Inch))\n",
    "  return sum(result)/len(result)"
   ]
  },
  {
   "cell_type": "markdown",
   "metadata": {},
   "source": [
    "Question 1:\n",
    " Scrape the heights of all the players on the men’s swimming team and find the average."
   ]
  },
  {
   "cell_type": "code",
   "execution_count": null,
   "metadata": {},
   "outputs": [],
   "source": [
    "heights('https://athletics.baruch.cuny.edu/sports/mens-swimming-and-diving/roster')"
   ]
  },
  {
   "cell_type": "code",
   "execution_count": 165,
   "metadata": {},
   "outputs": [
    {
     "data": {
      "text/plain": [
       "71.53"
      ]
     },
     "execution_count": 165,
     "metadata": {},
     "output_type": "execute_result"
    }
   ],
   "source": [
    "round(avger(heights('https://athletics.baruch.cuny.edu/sports/mens-swimming-and-diving/roster')),2)"
   ]
  },
  {
   "cell_type": "code",
   "execution_count": 4,
   "metadata": {},
   "outputs": [],
   "source": [
    "men_volleyball= 'https://athletics.baruch.cuny.edu/sports/mens-volleyball/roster'\n",
    "women_swimming= 'https://athletics.baruch.cuny.edu/sports/womens-swimming-and-diving/roster'\n",
    "women_volleyball= 'https://athletics.baruch.cuny.edu/sports/womens-volleyball/roster'"
   ]
  }
 ],
 "metadata": {
  "interpreter": {
   "hash": "916dbcbb3f70747c44a77c7bcd40155683ae19c65e1c03b4aa3499c5328201f1"
  },
  "kernelspec": {
   "display_name": "Python 3.8.5 64-bit",
   "language": "python",
   "name": "python3"
  },
  "language_info": {
   "codemirror_mode": {
    "name": "ipython",
    "version": 3
   },
   "file_extension": ".py",
   "mimetype": "text/x-python",
   "name": "python",
   "nbconvert_exporter": "python",
   "pygments_lexer": "ipython3",
   "version": "3.8.5"
  },
  "orig_nbformat": 4
 },
 "nbformat": 4,
 "nbformat_minor": 2
}
