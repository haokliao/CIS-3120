{
 "cells": [
  {
   "cell_type": "code",
   "execution_count": 18,
   "metadata": {},
   "outputs": [],
   "source": [
    "import requests\n",
    "import pandas as pd"
   ]
  },
  {
   "cell_type": "code",
   "execution_count": 19,
   "metadata": {},
   "outputs": [
    {
     "data": {
      "text/plain": [
       "True"
      ]
     },
     "execution_count": 19,
     "metadata": {},
     "output_type": "execute_result"
    }
   ],
   "source": [
    "# grab local environmental files (client id, client secret)\n",
    "import os\n",
    "from dotenv import load_dotenv\n",
    "load_dotenv()"
   ]
  },
  {
   "cell_type": "markdown",
   "metadata": {},
   "source": [
    "# Getting all of the albums for my Spotify top 10 Artists (of the month)"
   ]
  },
  {
   "cell_type": "markdown",
   "metadata": {},
   "source": [
    "First step is going through developer dashboard, getting your client ID and client Secret for use in the client credentials auth flow."
   ]
  },
  {
   "cell_type": "code",
   "execution_count": 3,
   "metadata": {},
   "outputs": [],
   "source": [
    "#Auth keys are stored locally in a .env file, to keep hidden.\n",
    "CL_id = os.getenv('CL_ID')\n",
    "CL_secret = os.getenv('CL_SECRET')\n",
    "AUTH_URL = 'https://accounts.spotify.com/api/token'\n"
   ]
  },
  {
   "cell_type": "markdown",
   "metadata": {},
   "source": [
    "Next, we're utilizing the client credential flow:\n",
    "Our first step is going to requesting our access token with the information from the last step."
   ]
  },
  {
   "cell_type": "code",
   "execution_count": 4,
   "metadata": {},
   "outputs": [],
   "source": [
    "#client credentials flow\n",
    "\n",
    "#request authorization\n",
    "auth_resp = requests.post(AUTH_URL, {\n",
    "    'grant_type': 'client_credentials',\n",
    "    'client_id': CL_id,\n",
    "    'client_secret': CL_secret,\n",
    "})\n",
    "\n",
    "# convert the response to JSON\n",
    "auth_resp_data = auth_resp.json()\n",
    "\n",
    "# save the access token\n",
    "access_token = auth_resp_data['access_token']"
   ]
  },
  {
   "cell_type": "markdown",
   "metadata": {},
   "source": [
    "We're going to send our requests and include our access token, along with their required Bearer header in a GET request to Spotify's API endpoint"
   ]
  },
  {
   "cell_type": "code",
   "execution_count": 14,
   "metadata": {},
   "outputs": [],
   "source": [
    "# using the access token\n",
    "\n",
    "#endpoint to hit \n",
    "endpoint = 'https://api.spotify.com/v1/'\n",
    "\n",
    "#creating the headers\n",
    "headers = {\n",
    "  'Authorization': 'Bearer ' + access_token\n",
    "}"
   ]
  },
  {
   "cell_type": "code",
   "execution_count": 11,
   "metadata": {},
   "outputs": [],
   "source": [
    "#Helper function to create a dataframe based on the information that we want to receive: artist name, album name, release date, # songs, album cover\n",
    "\n",
    "def get_album_info(data):\n",
    "  #values that we're looking for\n",
    "  artist_name = []\n",
    "  album_name = []\n",
    "  release_date = []\n",
    "  songs_on_album = []\n",
    "  image_url = []\n",
    "\n",
    "  #iterate through the json returned to extract the information and append to empty lists\n",
    "  for album in data['items']:\n",
    "    artist_name.append(data['items'][0]['artists'][0]['name'])\n",
    "    album_name.append(album['name'])\n",
    "    release_date.append(album['release_date'])\n",
    "    songs_on_album.append(album['total_tracks'])\n",
    "    image_url.append(album['images'][2]['url'])\n",
    "\n",
    "  #setting up our dataframe\n",
    "  album = {\n",
    "  'artist_name': artist_name,\n",
    "  'album_name': album_name,\n",
    "  'release_date': release_date,\n",
    "  'songs_on_album': songs_on_album,\n",
    "  'image_url': image_url\n",
    "  }\n",
    "  album_df = pd.DataFrame(album)\n",
    "\n",
    "  return album_df"
   ]
  },
  {
   "cell_type": "code",
   "execution_count": 7,
   "metadata": {},
   "outputs": [],
   "source": [
    "#creating a function to get endpoint data based on a passed in variable, id\n",
    "\n",
    "def get_artist(id):\n",
    "  #sends a GET request to our spotify endpoint with the ID given and our aforementioned header\n",
    "  r = requests.get(endpoint + 'artists/' + id + '/albums', headers=headers)\n",
    "  data = r.json()\n",
    "  return get_album_info(data)"
   ]
  },
  {
   "cell_type": "markdown",
   "metadata": {},
   "source": [
    "Who are my top ten artists of the month?"
   ]
  },
  {
   "cell_type": "code",
   "execution_count": 8,
   "metadata": {},
   "outputs": [],
   "source": [
    "#Couldn't get dictionary values to work for some reason\n",
    "artist_ids = ['0knGpCTbmG4ctl1wzYRZs4','4LLpKhyESsyAXpc4laK94U','5FxD8fkQZ6KcsSYupDVoSO','2h93pZq0e7k5yf4dywlkpM','25uiPmTg16RbhZWAqwLBy5','17Vw9uuOYB7XYjPt0LNFN0','68kEuyFKyqrdQQLLsmiatm','3K2Srho6NCF3o9MswGR76H','6TVVIyd0fsRDGg6WzHKyTP','5RADpgYLOuS2ZxDq7ggYYH']"
   ]
  },
  {
   "cell_type": "code",
   "execution_count": 70,
   "metadata": {},
   "outputs": [],
   "source": [
    "#ignore, dictionary with artist key, id values\n",
    "kevs_artists = {\n",
    "  \"Dijon\" : \"0knGpCTbmG4ctl1wzYRZs4\",\n",
    "  \"Mac Miller\" : \"4LLpKhyESsyAXpc4laK94U\",\n",
    "  \"Omar Apollo\" : \"5FxD8fkQZ6KcsSYupDVoSO\",\n",
    "  \"Frank Ocean\" : \"2h93pZq0e7k5yf4dywlkpM\",\n",
    "  \"Charli XCX\" : \"25uiPmTg16RbhZWAqwLBy5\",\n",
    "  \"Machine Girl\" : \"17Vw9uuOYB7XYjPt0LNFN0\",\n",
    "  \"Vince Staples\" : \"68kEuyFKyqrdQQLLsmiatm\",\n",
    "  \"Bakar\" : \"3K2Srho6NCF3o9MswGR76H\",\n",
    "  \"Durand Jones & The Intentions\" : \"6TVVIyd0fsRDGg6WzHKyTP\",\n",
    "  \"Death Grips\" : \"5RADpgYLOuS2ZxDq7ggYYH\",\n",
    "}"
   ]
  },
  {
   "cell_type": "code",
   "execution_count": 12,
   "metadata": {},
   "outputs": [],
   "source": [
    "#creating empty dataframe\n",
    "artist_df = pd.DataFrame()\n",
    "\n",
    "#iterating through artist_ids list to call get_artist function on all values in the list and creating a new dataframe comprised of everything.\n",
    "for i in range(len(artist_ids)):\n",
    "  df = get_artist(artist_ids[i])\n",
    "  artist_df = pd.concat([artist_df,df])\n",
    "\n",
    "#let's clean up our albums a little, removing all the singles (where songs on album is 1)\n",
    "artist_df_albums = artist_df[artist_df['songs_on_album'] > 1] "
   ]
  },
  {
   "cell_type": "code",
   "execution_count": 17,
   "metadata": {},
   "outputs": [
    {
     "data": {
      "text/html": [
       "<div>\n",
       "<style scoped>\n",
       "    .dataframe tbody tr th:only-of-type {\n",
       "        vertical-align: middle;\n",
       "    }\n",
       "\n",
       "    .dataframe tbody tr th {\n",
       "        vertical-align: top;\n",
       "    }\n",
       "\n",
       "    .dataframe thead th {\n",
       "        text-align: right;\n",
       "    }\n",
       "</style>\n",
       "<table border=\"1\" class=\"dataframe\">\n",
       "  <thead>\n",
       "    <tr style=\"text-align: right;\">\n",
       "      <th></th>\n",
       "      <th>artist_name</th>\n",
       "      <th>album_name</th>\n",
       "      <th>release_date</th>\n",
       "      <th>songs_on_album</th>\n",
       "      <th>image_url</th>\n",
       "    </tr>\n",
       "  </thead>\n",
       "  <tbody>\n",
       "    <tr>\n",
       "      <th>0</th>\n",
       "      <td>Dijon</td>\n",
       "      <td>Absolutely</td>\n",
       "      <td>2021-11-05</td>\n",
       "      <td>12</td>\n",
       "      <td>https://i.scdn.co/image/ab67616d00004851a68442...</td>\n",
       "    </tr>\n",
       "    <tr>\n",
       "      <th>5</th>\n",
       "      <td>Dijon</td>\n",
       "      <td>How Do You Feel About Getting Married?</td>\n",
       "      <td>2020-05-15</td>\n",
       "      <td>6</td>\n",
       "      <td>https://i.scdn.co/image/ab67616d00004851d060ed...</td>\n",
       "    </tr>\n",
       "    <tr>\n",
       "      <th>9</th>\n",
       "      <td>Dijon</td>\n",
       "      <td>Sci Fi 1</td>\n",
       "      <td>2019-03-01</td>\n",
       "      <td>7</td>\n",
       "      <td>https://i.scdn.co/image/ab67616d000048516badb4...</td>\n",
       "    </tr>\n",
       "    <tr>\n",
       "      <th>17</th>\n",
       "      <td>Dijon</td>\n",
       "      <td>Letter Blue (Remixes)</td>\n",
       "      <td>2022-03-25</td>\n",
       "      <td>4</td>\n",
       "      <td>https://i.scdn.co/image/ab67616d000048510dd482...</td>\n",
       "    </tr>\n",
       "    <tr>\n",
       "      <th>19</th>\n",
       "      <td>Dijon</td>\n",
       "      <td>EPHEMERA</td>\n",
       "      <td>2020-10-30</td>\n",
       "      <td>8</td>\n",
       "      <td>https://i.scdn.co/image/ab67616d00004851b426fa...</td>\n",
       "    </tr>\n",
       "    <tr>\n",
       "      <th>...</th>\n",
       "      <td>...</td>\n",
       "      <td>...</td>\n",
       "      <td>...</td>\n",
       "      <td>...</td>\n",
       "      <td>...</td>\n",
       "    </tr>\n",
       "    <tr>\n",
       "      <th>195</th>\n",
       "      <td>Death Grips</td>\n",
       "      <td>Government Plates</td>\n",
       "      <td>2013-11-13</td>\n",
       "      <td>11</td>\n",
       "      <td>https://i.scdn.co/image/ab67616d00004851dfab0b...</td>\n",
       "    </tr>\n",
       "    <tr>\n",
       "      <th>196</th>\n",
       "      <td>Death Grips</td>\n",
       "      <td>No Love Deep Web</td>\n",
       "      <td>2012-10-01</td>\n",
       "      <td>13</td>\n",
       "      <td>https://i.scdn.co/image/ab67616d00004851f552da...</td>\n",
       "    </tr>\n",
       "    <tr>\n",
       "      <th>197</th>\n",
       "      <td>Death Grips</td>\n",
       "      <td>The Money Store</td>\n",
       "      <td>2012-04-23</td>\n",
       "      <td>13</td>\n",
       "      <td>https://i.scdn.co/image/ab67616d00004851b4f845...</td>\n",
       "    </tr>\n",
       "    <tr>\n",
       "      <th>206</th>\n",
       "      <td>Death Grips</td>\n",
       "      <td>Interview 2016</td>\n",
       "      <td>2016-03-22</td>\n",
       "      <td>6</td>\n",
       "      <td>https://i.scdn.co/image/ab67616d000048513b737b...</td>\n",
       "    </tr>\n",
       "    <tr>\n",
       "      <th>210</th>\n",
       "      <td>Death Grips</td>\n",
       "      <td>WELCOME TO THE THE PREGAME</td>\n",
       "      <td>2021-09-10</td>\n",
       "      <td>29</td>\n",
       "      <td>https://i.scdn.co/image/ab67616d000048516dd022...</td>\n",
       "    </tr>\n",
       "  </tbody>\n",
       "</table>\n",
       "<p>658 rows × 5 columns</p>\n",
       "</div>"
      ],
      "text/plain": [
       "     artist_name                              album_name release_date  \\\n",
       "0          Dijon                              Absolutely   2021-11-05   \n",
       "5          Dijon  How Do You Feel About Getting Married?   2020-05-15   \n",
       "9          Dijon                                Sci Fi 1   2019-03-01   \n",
       "17         Dijon                   Letter Blue (Remixes)   2022-03-25   \n",
       "19         Dijon                                EPHEMERA   2020-10-30   \n",
       "..           ...                                     ...          ...   \n",
       "195  Death Grips                       Government Plates   2013-11-13   \n",
       "196  Death Grips                        No Love Deep Web   2012-10-01   \n",
       "197  Death Grips                         The Money Store   2012-04-23   \n",
       "206  Death Grips                          Interview 2016   2016-03-22   \n",
       "210  Death Grips              WELCOME TO THE THE PREGAME   2021-09-10   \n",
       "\n",
       "     songs_on_album                                          image_url  \n",
       "0                12  https://i.scdn.co/image/ab67616d00004851a68442...  \n",
       "5                 6  https://i.scdn.co/image/ab67616d00004851d060ed...  \n",
       "9                 7  https://i.scdn.co/image/ab67616d000048516badb4...  \n",
       "17                4  https://i.scdn.co/image/ab67616d000048510dd482...  \n",
       "19                8  https://i.scdn.co/image/ab67616d00004851b426fa...  \n",
       "..              ...                                                ...  \n",
       "195              11  https://i.scdn.co/image/ab67616d00004851dfab0b...  \n",
       "196              13  https://i.scdn.co/image/ab67616d00004851f552da...  \n",
       "197              13  https://i.scdn.co/image/ab67616d00004851b4f845...  \n",
       "206               6  https://i.scdn.co/image/ab67616d000048513b737b...  \n",
       "210              29  https://i.scdn.co/image/ab67616d000048516dd022...  \n",
       "\n",
       "[658 rows x 5 columns]"
      ]
     },
     "execution_count": 17,
     "metadata": {},
     "output_type": "execute_result"
    }
   ],
   "source": [
    "artist_df_albums"
   ]
  },
  {
   "cell_type": "code",
   "execution_count": 15,
   "metadata": {},
   "outputs": [
    {
     "data": {
      "text/html": [
       "<div>\n",
       "<style scoped>\n",
       "    .dataframe tbody tr th:only-of-type {\n",
       "        vertical-align: middle;\n",
       "    }\n",
       "\n",
       "    .dataframe tbody tr th {\n",
       "        vertical-align: top;\n",
       "    }\n",
       "\n",
       "    .dataframe thead th {\n",
       "        text-align: right;\n",
       "    }\n",
       "</style>\n",
       "<table border=\"1\" class=\"dataframe\">\n",
       "  <thead>\n",
       "    <tr style=\"text-align: right;\">\n",
       "      <th></th>\n",
       "      <th>songs_on_album</th>\n",
       "    </tr>\n",
       "  </thead>\n",
       "  <tbody>\n",
       "    <tr>\n",
       "      <th>count</th>\n",
       "      <td>658.000000</td>\n",
       "    </tr>\n",
       "    <tr>\n",
       "      <th>mean</th>\n",
       "      <td>13.320669</td>\n",
       "    </tr>\n",
       "    <tr>\n",
       "      <th>std</th>\n",
       "      <td>14.043059</td>\n",
       "    </tr>\n",
       "    <tr>\n",
       "      <th>min</th>\n",
       "      <td>2.000000</td>\n",
       "    </tr>\n",
       "    <tr>\n",
       "      <th>25%</th>\n",
       "      <td>7.000000</td>\n",
       "    </tr>\n",
       "    <tr>\n",
       "      <th>50%</th>\n",
       "      <td>12.000000</td>\n",
       "    </tr>\n",
       "    <tr>\n",
       "      <th>75%</th>\n",
       "      <td>16.000000</td>\n",
       "    </tr>\n",
       "    <tr>\n",
       "      <th>max</th>\n",
       "      <td>100.000000</td>\n",
       "    </tr>\n",
       "  </tbody>\n",
       "</table>\n",
       "</div>"
      ],
      "text/plain": [
       "       songs_on_album\n",
       "count      658.000000\n",
       "mean        13.320669\n",
       "std         14.043059\n",
       "min          2.000000\n",
       "25%          7.000000\n",
       "50%         12.000000\n",
       "75%         16.000000\n",
       "max        100.000000"
      ]
     },
     "execution_count": 15,
     "metadata": {},
     "output_type": "execute_result"
    }
   ],
   "source": [
    "artist_df_albums.describe()"
   ]
  },
  {
   "cell_type": "code",
   "execution_count": 16,
   "metadata": {},
   "outputs": [],
   "source": [
    "# converting dataframe to csv file, spotify_albums.csv\n",
    "\n",
    "artist_df_albums.to_csv(r'spotify_albums.csv',index=False)"
   ]
  }
 ],
 "metadata": {
  "interpreter": {
   "hash": "916dbcbb3f70747c44a77c7bcd40155683ae19c65e1c03b4aa3499c5328201f1"
  },
  "kernelspec": {
   "display_name": "Python 3.8.5 64-bit",
   "language": "python",
   "name": "python3"
  },
  "language_info": {
   "codemirror_mode": {
    "name": "ipython",
    "version": 3
   },
   "file_extension": ".py",
   "mimetype": "text/x-python",
   "name": "python",
   "nbconvert_exporter": "python",
   "pygments_lexer": "ipython3",
   "version": "3.8.5"
  },
  "orig_nbformat": 4
 },
 "nbformat": 4,
 "nbformat_minor": 2
}
