{
 "cells": [
  {
   "cell_type": "code",
   "execution_count": 78,
   "metadata": {},
   "outputs": [],
   "source": [
    "import datetime"
   ]
  },
  {
   "cell_type": "code",
   "execution_count": 79,
   "metadata": {},
   "outputs": [],
   "source": [
    "dataset = ['5/22/12','12/1/03','3/27/22','5/10/22','4/6/16','5/15/05','6/9/19','5/4/13','2/14/21','11/5/05']"
   ]
  },
  {
   "cell_type": "code",
   "execution_count": 80,
   "metadata": {},
   "outputs": [],
   "source": [
    "def breakoriginaldate(date):\n",
    "  #splitting input, date by /\n",
    "  month,day,year = date.split('/')\n",
    "  print(f'{month} is the month  {day} is the day  {year} is the year')\n",
    "  #returning three values, the month, date, year\n",
    "  return month,day,year"
   ]
  },
  {
   "cell_type": "code",
   "execution_count": 95,
   "metadata": {},
   "outputs": [],
   "source": [
    "def printdate3ways(month,day,year):\n",
    "  #converting our inputs into integers so they work with datetime library\n",
    "  #adding 2000 to year, as datetime expects a 4 digit year from the input, with date assumption.\n",
    "  year = int(year) + 2000\n",
    "  day = int(day)\n",
    "  month = int(month)\n",
    "  #dt is is now manipulatable with datetime functions\n",
    "  dt = datetime.datetime(year,month,day)\n",
    "  #year will be in 2 digit case\n",
    "  print(f'{dt.strftime(f\"{day}-{month}-%y\")} is the European way of printing')\n",
    "  #Month will be in full month, year will be full full four digit year\n",
    "  print(f'{dt.strftime(f\"%B {day}, %Y\")} is the American way of printing')\n",
    "  #month is two digits, day is two digits, year is full four digits\n",
    "  print(f'{dt.strftime(\"%m-%d-%Y\")} is the Full way of printing')\n",
    "  print('')\n"
   ]
  },
  {
   "cell_type": "code",
   "execution_count": 98,
   "metadata": {},
   "outputs": [],
   "source": [
    "#this is my main function, read below.\n",
    "\n",
    "def realoriginaldate(date):\n",
    "  print(f'{date}   is the original date')\n",
    "  #store the three values given from breakoriginal date\n",
    "  month,day,year = breakoriginaldate(date)\n",
    "  #apply these three values into printdate3ways function\n",
    "  printdate3ways(month,day,year)"
   ]
  },
  {
   "cell_type": "markdown",
   "metadata": {},
   "source": [
    "consolidated realoriginaldate function, as it seemed like unecessary code (a function to print and return the same value)\n",
    "\n",
    "instead, streamlined the process and converted to the main function, satisfying all requirements without additional code or returning values for no reason.\n",
    "\n"
   ]
  },
  {
   "cell_type": "code",
   "execution_count": 97,
   "metadata": {},
   "outputs": [
    {
     "name": "stdout",
     "output_type": "stream",
     "text": [
      "5/22/12   is the original date\n",
      "5 is the month  22 is the day  12 is the year\n",
      "22-5-12 is the European way of printing\n",
      "May 22, 2012 is the American way of printing\n",
      "05-22-2012 is the Full way of printing\n",
      "\n",
      "12/1/03   is the original date\n",
      "12 is the month  1 is the day  03 is the year\n",
      "1-12-03 is the European way of printing\n",
      "December 1, 2003 is the American way of printing\n",
      "12-01-2003 is the Full way of printing\n",
      "\n",
      "3/27/22   is the original date\n",
      "3 is the month  27 is the day  22 is the year\n",
      "27-3-22 is the European way of printing\n",
      "March 27, 2022 is the American way of printing\n",
      "03-27-2022 is the Full way of printing\n",
      "\n",
      "5/10/22   is the original date\n",
      "5 is the month  10 is the day  22 is the year\n",
      "10-5-22 is the European way of printing\n",
      "May 10, 2022 is the American way of printing\n",
      "05-10-2022 is the Full way of printing\n",
      "\n",
      "4/6/16   is the original date\n",
      "4 is the month  6 is the day  16 is the year\n",
      "6-4-16 is the European way of printing\n",
      "April 6, 2016 is the American way of printing\n",
      "04-06-2016 is the Full way of printing\n",
      "\n",
      "5/15/05   is the original date\n",
      "5 is the month  15 is the day  05 is the year\n",
      "15-5-05 is the European way of printing\n",
      "May 15, 2005 is the American way of printing\n",
      "05-15-2005 is the Full way of printing\n",
      "\n",
      "6/9/19   is the original date\n",
      "6 is the month  9 is the day  19 is the year\n",
      "9-6-19 is the European way of printing\n",
      "June 9, 2019 is the American way of printing\n",
      "06-09-2019 is the Full way of printing\n",
      "\n",
      "5/4/13   is the original date\n",
      "5 is the month  4 is the day  13 is the year\n",
      "4-5-13 is the European way of printing\n",
      "May 4, 2013 is the American way of printing\n",
      "05-04-2013 is the Full way of printing\n",
      "\n",
      "2/14/21   is the original date\n",
      "2 is the month  14 is the day  21 is the year\n",
      "14-2-21 is the European way of printing\n",
      "February 14, 2021 is the American way of printing\n",
      "02-14-2021 is the Full way of printing\n",
      "\n",
      "11/5/05   is the original date\n",
      "11 is the month  5 is the day  05 is the year\n",
      "5-11-05 is the European way of printing\n",
      "November 5, 2005 is the American way of printing\n",
      "11-05-2005 is the Full way of printing\n",
      "\n"
     ]
    }
   ],
   "source": [
    "#iterating through dataset\n",
    "for i in range(len(dataset)):\n",
    "  realoriginaldate(dataset[i])"
   ]
  }
 ],
 "metadata": {
  "interpreter": {
   "hash": "916dbcbb3f70747c44a77c7bcd40155683ae19c65e1c03b4aa3499c5328201f1"
  },
  "kernelspec": {
   "display_name": "Python 3.8.5 64-bit",
   "language": "python",
   "name": "python3"
  },
  "language_info": {
   "codemirror_mode": {
    "name": "ipython",
    "version": 3
   },
   "file_extension": ".py",
   "mimetype": "text/x-python",
   "name": "python",
   "nbconvert_exporter": "python",
   "pygments_lexer": "ipython3",
   "version": "3.8.5"
  },
  "orig_nbformat": 4
 },
 "nbformat": 4,
 "nbformat_minor": 2
}
