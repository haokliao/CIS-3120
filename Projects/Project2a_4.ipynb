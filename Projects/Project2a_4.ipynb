{
 "cells": [
  {
   "cell_type": "code",
   "execution_count": 3,
   "metadata": {},
   "outputs": [],
   "source": [
    "def introduction():\n",
    "  #prints description of program\n",
    "  print('This program is used to check grades and validate them, rounding the score by a base of 10.')\n",
    "  return(print('To exit out of this program, please enter 1111 three times as inputs.'))"
   ]
  },
  {
   "cell_type": "code",
   "execution_count": 4,
   "metadata": {},
   "outputs": [],
   "source": [
    "def aretheyvalid(a,b,c):\n",
    "  #determining if numbers are valid within range of 0 to 100\n",
    "  if (0 < a < 100) and (0 < b < 100) and (0 < c < 100):\n",
    "    return (True)\n",
    "  else:\n",
    "    #otherwise finding if individual value is smaller or bigger than range\n",
    "    if a < 0:\n",
    "      print('a is too Small')\n",
    "    elif a>100:\n",
    "      print('a is too Big')\n",
    "\n",
    "    if b < 0:\n",
    "      print('b is too Small')\n",
    "    elif b>100:\n",
    "      print('b is too Big')\n",
    "\n",
    "    if c < 0:\n",
    "      print('c is too Small')\n",
    "    elif c>100:\n",
    "      print('c is too Big')\n",
    "\n",
    "    return(False)"
   ]
  },
  {
   "cell_type": "code",
   "execution_count": 5,
   "metadata": {},
   "outputs": [
    {
     "name": "stdout",
     "output_type": "stream",
     "text": [
      "a is too Small\n",
      "b is too Big\n",
      "c is too Big\n"
     ]
    },
    {
     "data": {
      "text/plain": [
       "False"
      ]
     },
     "execution_count": 5,
     "metadata": {},
     "output_type": "execute_result"
    }
   ],
   "source": [
    "aretheyvalid(-1,101,103)"
   ]
  },
  {
   "cell_type": "code",
   "execution_count": 6,
   "metadata": {},
   "outputs": [],
   "source": [
    "def aretheysame(a,b,c):\n",
    "  #determining if numbers are equal\n",
    "  if a == b ==c:\n",
    "    print('all three numbers are the same')\n",
    "  #determine if numbers are larger\n",
    "  elif (a == b < c) or (a == c < b) or (b == c < a):\n",
    "    print('two numbers are the same and third is LARGER')\n",
    "  #determining if smaller\n",
    "  elif (c < a == b) or (b < a == c) or (a < b == c ):\n",
    "    print('two numbers are the same and third is SMALLER')\n",
    "  else:\n",
    "    print('all three numbers are different')\n"
   ]
  },
  {
   "cell_type": "code",
   "execution_count": 7,
   "metadata": {},
   "outputs": [
    {
     "name": "stdout",
     "output_type": "stream",
     "text": [
      "all three numbers are different\n"
     ]
    }
   ],
   "source": [
    "aretheysame(22,23,1)"
   ]
  },
  {
   "cell_type": "code",
   "execution_count": 8,
   "metadata": {},
   "outputs": [],
   "source": [
    "def roundscore(a, base=10):\n",
    "  # rounding by a base of 10, so to the nearest tenth's place.\n",
    "  # this function will take the rounded number and divide it by ten, multiplying it by 10\n",
    "  # so for example if we have 83, this function will round 83/10 = 8.3 => 8.0 and multiply it by ten, giving the result we want.\n",
    "  # works around the round function's capabilities of only being able to go to a decimal place.\n",
    "  return round(a/base) * base"
   ]
  },
  {
   "cell_type": "code",
   "execution_count": 9,
   "metadata": {},
   "outputs": [],
   "source": [
    "def main_funct():\n",
    "  introduction()\n",
    "  # three counters\n",
    "  groups_processed = 0\n",
    "  groups_valid = 0\n",
    "  groups_invalid = 0\n",
    "\n",
    "  while True:\n",
    "    groups_processed += 1\n",
    "    # three inputs\n",
    "    a = int(input('Enter first value, enter 1111 to exit'))\n",
    "    b = int(input('Enter second value'))\n",
    "    c = int(input('Enter third value'))\n",
    "\n",
    "\n",
    "    if a== 1111:\n",
    "      # exit statement clause, printing counters and exiting function\n",
    "      print(f'Number of Groups Processed {groups_processed}')\n",
    "      print(f'Number of Valid Groups {groups_valid}')\n",
    "      print(f'Number of Invalid Groups {groups_invalid}')\n",
    "      break\n",
    "    \n",
    "    else:\n",
    "      # if program is not exited\n",
    "      print(a,b,c)\n",
    "      # check  if group is valid\n",
    "      if aretheyvalid(a,b,c) == True:\n",
    "        groups_valid += 1\n",
    "        aretheysame(a,b,c)\n",
    "        #assign rounded score values to print them out\n",
    "        a = roundscore(a)\n",
    "        b = roundscore(b)\n",
    "        c = roundscore(c)\n",
    "        print (f'Rounded: {a,b,c}')\n",
    "        #checking for sameness the second time, which will give different values in contrast to first\n",
    "        aretheysame(a,b,c)\n",
    "      else:\n",
    "        #if group is invalid, we will continue the program, adding to the counter and restarting the loop.\n",
    "        groups_invalid += 1\n",
    "        continue\n",
    "\n"
   ]
  },
  {
   "cell_type": "code",
   "execution_count": 10,
   "metadata": {},
   "outputs": [
    {
     "name": "stdout",
     "output_type": "stream",
     "text": [
      "This program is used to check grades and validate them, rounding the score by a base of 10.\n",
      "To exit out of this program, please enter 1111 three times as inputs.\n",
      "55 70 90\n",
      "all three numbers are different\n",
      "Rounded: (60, 70, 90)\n",
      "all three numbers are different\n",
      "88 88 13\n",
      "two numbers are the same and third is SMALLER\n",
      "Rounded: (90, 90, 10)\n",
      "two numbers are the same and third is SMALLER\n",
      "77 77 77\n",
      "all three numbers are the same\n",
      "Rounded: (80, 80, 80)\n",
      "all three numbers are the same\n",
      "15 15 23\n",
      "two numbers are the same and third is LARGER\n",
      "Rounded: (20, 20, 20)\n",
      "all three numbers are the same\n",
      "101 97 91\n",
      "a is too Big\n",
      "41 41 28\n",
      "two numbers are the same and third is SMALLER\n",
      "Rounded: (40, 40, 30)\n",
      "two numbers are the same and third is SMALLER\n",
      "93 93 93\n",
      "all three numbers are the same\n",
      "Rounded: (90, 90, 90)\n",
      "all three numbers are the same\n",
      "21 5 21\n",
      "two numbers are the same and third is SMALLER\n",
      "Rounded: (20, 0, 20)\n",
      "two numbers are the same and third is SMALLER\n",
      "63 63 99\n",
      "two numbers are the same and third is LARGER\n",
      "Rounded: (60, 60, 100)\n",
      "two numbers are the same and third is LARGER\n",
      "23 533 -5\n",
      "b is too Big\n",
      "c is too Small\n",
      "15 18 42\n",
      "all three numbers are different\n",
      "Rounded: (20, 20, 40)\n",
      "two numbers are the same and third is LARGER\n",
      "21 21 21\n",
      "all three numbers are the same\n",
      "Rounded: (20, 20, 20)\n",
      "all three numbers are the same\n",
      "84 83 12\n",
      "all three numbers are different\n",
      "Rounded: (80, 80, 10)\n",
      "two numbers are the same and third is SMALLER\n",
      "12 14 8\n",
      "all three numbers are different\n",
      "Rounded: (10, 10, 10)\n",
      "all three numbers are the same\n",
      "11 55 203\n",
      "c is too Big\n",
      "7 7 33\n",
      "two numbers are the same and third is LARGER\n",
      "Rounded: (10, 10, 30)\n",
      "two numbers are the same and third is LARGER\n",
      "94 15 101\n",
      "c is too Big\n",
      "63 61 58\n",
      "all three numbers are different\n",
      "Rounded: (60, 60, 60)\n",
      "all three numbers are the same\n",
      "121 100 100\n",
      "a is too Big\n",
      "68 50 109\n",
      "c is too Big\n",
      "Number of Groups Processed 21\n",
      "Number of Valid Groups 14\n",
      "Number of Invalid Groups 6\n"
     ]
    }
   ],
   "source": [
    "main_funct()"
   ]
  }
 ],
 "metadata": {
  "interpreter": {
   "hash": "916dbcbb3f70747c44a77c7bcd40155683ae19c65e1c03b4aa3499c5328201f1"
  },
  "kernelspec": {
   "display_name": "Python 3.8.5 64-bit",
   "language": "python",
   "name": "python3"
  },
  "language_info": {
   "codemirror_mode": {
    "name": "ipython",
    "version": 3
   },
   "file_extension": ".py",
   "mimetype": "text/x-python",
   "name": "python",
   "nbconvert_exporter": "python",
   "pygments_lexer": "ipython3",
   "version": "3.8.5"
  },
  "orig_nbformat": 4
 },
 "nbformat": 4,
 "nbformat_minor": 2
}
