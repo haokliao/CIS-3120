{
 "cells": [
  {
   "cell_type": "markdown",
   "metadata": {},
   "source": [
    "Select an API of your choice.\n",
    "\n",
    " Make at least 10 requests to this API with different querying\n",
    "values. For example, you could look up the weather information for 10 different cities or\n",
    "the stock price information for 10 different companies.\n",
    "\n",
    "\n",
    "On each request the API must return at least 5 pieces of information. E.g. if you are\n",
    "using a weather API, the API may return the max temperature, min temperature, rainfall\n",
    "amount, humidity, UV index for each city.\n",
    "\n",
    "\n",
    "Store the values returned for each request in a pandas data frame. That is, the data\n",
    "frame would have at least 5 columns (one for each category of data provided by the API)\n",
    "and at least 10 rows.\n",
    "Print the description statistics for the data frame."
   ]
  },
  {
   "cell_type": "code",
   "execution_count": 1,
   "metadata": {},
   "outputs": [],
   "source": [
    "import requests\n",
    "import json\n",
    "import os\n",
    "import pandas as pd"
   ]
  },
  {
   "cell_type": "code",
   "execution_count": 5,
   "metadata": {},
   "outputs": [
    {
     "data": {
      "text/plain": [
       "True"
      ]
     },
     "execution_count": 5,
     "metadata": {},
     "output_type": "execute_result"
    }
   ],
   "source": [
    "# grab local environmental files (client id, client secret)\n",
    "from dotenv import load_dotenv\n",
    "load_dotenv()"
   ]
  },
  {
   "cell_type": "markdown",
   "metadata": {},
   "source": [
    "Getting my top 10 (of the month) Spotify Artists Albums"
   ]
  },
  {
   "cell_type": "markdown",
   "metadata": {},
   "source": [
    "First step is going through developer dashboard, getting your client ID and client Secret for use in the client credentials auth flow."
   ]
  },
  {
   "cell_type": "code",
   "execution_count": 20,
   "metadata": {},
   "outputs": [],
   "source": [
    "#Auth keys are stored locally in a .env file, to keep hidden.\n",
    "CL_id = os.getenv('CL_ID')\n",
    "CL_secret = os.getenv('CL_SECRET')\n",
    "AUTH_URL = 'https://accounts.spotify.com/api/token'\n"
   ]
  },
  {
   "cell_type": "markdown",
   "metadata": {},
   "source": [
    "Next, we're utilizing the client credential flow:\n",
    "Our first step is going to requesting our access token with the information from the last step."
   ]
  },
  {
   "cell_type": "code",
   "execution_count": 28,
   "metadata": {},
   "outputs": [],
   "source": [
    "#client credentials flow\n",
    "\n",
    "#request authorization\n",
    "auth_resp = requests.post(AUTH_URL, {\n",
    "    'grant_type': 'client_credentials',\n",
    "    'client_id': CL_id,\n",
    "    'client_secret': CL_secret,\n",
    "})\n",
    "\n",
    "# convert the response to JSON\n",
    "auth_resp_data = auth_resp.json()\n",
    "\n",
    "# save the access token\n",
    "access_token = auth_resp_data['access_token']"
   ]
  },
  {
   "cell_type": "markdown",
   "metadata": {},
   "source": [
    "We're going to send our requests and include our access token, along with their required Bearer header in a GET request to Spotify's API endpoint"
   ]
  },
  {
   "cell_type": "code",
   "execution_count": 42,
   "metadata": {},
   "outputs": [],
   "source": [
    "# using the access token\n",
    "\n",
    "#endpoint to hit \n",
    "endpoint = 'https://api.spotify.com/v1/'\n",
    "\n",
    "#creating the headers\n",
    "headers = {\n",
    "  'Authorization': 'Bearer ' + access_token\n",
    "}"
   ]
  },
  {
   "cell_type": "markdown",
   "metadata": {},
   "source": [
    "What are my top ten artists of the month?"
   ]
  },
  {
   "cell_type": "code",
   "execution_count": 41,
   "metadata": {},
   "outputs": [],
   "source": [
    "kevs_artists = {\n",
    "  \"Dijon\" : \"0knGpCTbmG4ctl1wzYRZs4\",\n",
    "  \"Mac Miller\" : \"4LLpKhyESsyAXpc4laK94U\",\n",
    "  \"Omar Apollo\" : \"5FxD8fkQZ6KcsSYupDVoSO\",\n",
    "  \"Frank Ocean\" : \"2h93pZq0e7k5yf4dywlkpM?si=a9319c0542234688\",\n",
    "  \"Charli XCX\" : \"25uiPmTg16RbhZWAqwLBy5\",\n",
    "  \"Machine Girl\" : \"17Vw9uuOYB7XYjPt0LNFN0\",\n",
    "  \"Vince Staples\" : \"68kEuyFKyqrdQQLLsmiatm\",\n",
    "  \"Bakar\" : \"3K2Srho6NCF3o9MswGR76H\",\n",
    "  \"Durand Jones & The Intentions\" : \"6TVVIyd0fsRDGg6WzHKyTP\",\n",
    "  \"Death Grips\" : \"5RADpgYLOuS2ZxDq7ggYYH\",\n",
    "}"
   ]
  },
  {
   "cell_type": "code",
   "execution_count": 60,
   "metadata": {},
   "outputs": [
    {
     "data": {
      "text/plain": [
       "10"
      ]
     },
     "execution_count": 60,
     "metadata": {},
     "output_type": "execute_result"
    }
   ],
   "source": [
    "def get_artist(id):\n",
    "  r = requests.get(endpoint + 'artists/' + kevs_artists['Mac ']  + '/albums', headers=headers)\n",
    "\n"
   ]
  },
  {
   "cell_type": "code",
   "execution_count": 58,
   "metadata": {},
   "outputs": [],
   "source": [
    "r = requests.get(endpoint + 'artists/' + kevs_artists['Mac Miller']  + '/albums', headers=headers)\n",
    "data = r.json()\n",
    "\n",
    "formatted_json = json.dumps(data, sort_keys=True, indent=3)\n",
    "print(formatted_json)"
   ]
  },
  {
   "cell_type": "markdown",
   "metadata": {},
   "source": [
    "Album name, release dates, total tracks, album type, thumbnail image"
   ]
  },
  {
   "cell_type": "code",
   "execution_count": 75,
   "metadata": {},
   "outputs": [],
   "source": [
    "def get_album_info(data):\n",
    "  album_name = []\n",
    "  release_date = []\n",
    "  songs_on_album = []\n",
    "  album_type = []\n",
    "  image_url = []\n",
    "\n",
    "  for album in data['items']:\n",
    "    album_name.append(album['name'])\n",
    "    release_date.append(album['release_date'])\n",
    "    songs_on_album.append(album['total_tracks'])\n",
    "    album_type.append(album['type'])\n",
    "    image_url.append(album['images'][2]['url'])\n",
    "  \n",
    "  album = {\n",
    "  'album_name': album_name,\n",
    "  'release_date': release_date,\n",
    "  'songs_on_album': songs_on_album,\n",
    "  'album_type': album_type,\n",
    "  'image_url': image_url\n",
    "  }\n",
    "  album_df = pd.DataFrame(album)\n",
    "\n",
    "  return album_df"
   ]
  },
  {
   "cell_type": "code",
   "execution_count": 76,
   "metadata": {},
   "outputs": [
    {
     "data": {
      "text/html": [
       "<div>\n",
       "<style scoped>\n",
       "    .dataframe tbody tr th:only-of-type {\n",
       "        vertical-align: middle;\n",
       "    }\n",
       "\n",
       "    .dataframe tbody tr th {\n",
       "        vertical-align: top;\n",
       "    }\n",
       "\n",
       "    .dataframe thead th {\n",
       "        text-align: right;\n",
       "    }\n",
       "</style>\n",
       "<table border=\"1\" class=\"dataframe\">\n",
       "  <thead>\n",
       "    <tr style=\"text-align: right;\">\n",
       "      <th></th>\n",
       "      <th>album_name</th>\n",
       "      <th>release_date</th>\n",
       "      <th>songs_on_album</th>\n",
       "      <th>album_type</th>\n",
       "      <th>image_url</th>\n",
       "    </tr>\n",
       "  </thead>\n",
       "  <tbody>\n",
       "    <tr>\n",
       "      <th>0</th>\n",
       "      <td>Faces</td>\n",
       "      <td>2021-10-15</td>\n",
       "      <td>25</td>\n",
       "      <td>album</td>\n",
       "      <td>https://i.scdn.co/image/ab67616d00004851e4251c...</td>\n",
       "    </tr>\n",
       "    <tr>\n",
       "      <th>1</th>\n",
       "      <td>Circles (Deluxe)</td>\n",
       "      <td>2020-03-19</td>\n",
       "      <td>14</td>\n",
       "      <td>album</td>\n",
       "      <td>https://i.scdn.co/image/ab67616d000048518cbe65...</td>\n",
       "    </tr>\n",
       "    <tr>\n",
       "      <th>2</th>\n",
       "      <td>Circles</td>\n",
       "      <td>2020-01-17</td>\n",
       "      <td>12</td>\n",
       "      <td>album</td>\n",
       "      <td>https://i.scdn.co/image/ab67616d0000485126b7dd...</td>\n",
       "    </tr>\n",
       "    <tr>\n",
       "      <th>3</th>\n",
       "      <td>Swimming</td>\n",
       "      <td>2018-08-03</td>\n",
       "      <td>13</td>\n",
       "      <td>album</td>\n",
       "      <td>https://i.scdn.co/image/ab67616d00004851175c57...</td>\n",
       "    </tr>\n",
       "    <tr>\n",
       "      <th>4</th>\n",
       "      <td>The Divine Feminine</td>\n",
       "      <td>2016-09-16</td>\n",
       "      <td>10</td>\n",
       "      <td>album</td>\n",
       "      <td>https://i.scdn.co/image/ab67616d000048512e92f7...</td>\n",
       "    </tr>\n",
       "    <tr>\n",
       "      <th>5</th>\n",
       "      <td>The Divine Feminine</td>\n",
       "      <td>2016-09-16</td>\n",
       "      <td>10</td>\n",
       "      <td>album</td>\n",
       "      <td>https://i.scdn.co/image/ab67616d00004851a5677f...</td>\n",
       "    </tr>\n",
       "    <tr>\n",
       "      <th>6</th>\n",
       "      <td>Best Day Ever (5th Anniversary Remastered Edit...</td>\n",
       "      <td>2016-06-03</td>\n",
       "      <td>16</td>\n",
       "      <td>album</td>\n",
       "      <td>https://i.scdn.co/image/ab67616d00004851caed62...</td>\n",
       "    </tr>\n",
       "    <tr>\n",
       "      <th>7</th>\n",
       "      <td>GO:OD AM</td>\n",
       "      <td>2015-09-18</td>\n",
       "      <td>17</td>\n",
       "      <td>album</td>\n",
       "      <td>https://i.scdn.co/image/ab67616d00004851ee0f38...</td>\n",
       "    </tr>\n",
       "    <tr>\n",
       "      <th>8</th>\n",
       "      <td>GO:OD AM</td>\n",
       "      <td>2015-09-18</td>\n",
       "      <td>17</td>\n",
       "      <td>album</td>\n",
       "      <td>https://i.scdn.co/image/ab67616d000048510726f1...</td>\n",
       "    </tr>\n",
       "    <tr>\n",
       "      <th>9</th>\n",
       "      <td>Live From Space</td>\n",
       "      <td>2013-12-17</td>\n",
       "      <td>14</td>\n",
       "      <td>album</td>\n",
       "      <td>https://i.scdn.co/image/ab67616d000048514052e9...</td>\n",
       "    </tr>\n",
       "    <tr>\n",
       "      <th>10</th>\n",
       "      <td>Watching Movies with the Sound Off (Deluxe Edi...</td>\n",
       "      <td>2013-06-18</td>\n",
       "      <td>19</td>\n",
       "      <td>album</td>\n",
       "      <td>https://i.scdn.co/image/ab67616d00004851d4300b...</td>\n",
       "    </tr>\n",
       "    <tr>\n",
       "      <th>11</th>\n",
       "      <td>Watching Movies with the Sound Off</td>\n",
       "      <td>2013-06-18</td>\n",
       "      <td>16</td>\n",
       "      <td>album</td>\n",
       "      <td>https://i.scdn.co/image/ab67616d0000485199eb56...</td>\n",
       "    </tr>\n",
       "    <tr>\n",
       "      <th>12</th>\n",
       "      <td>Mac Miller : Live From London (With The Internet)</td>\n",
       "      <td>2013-01-01</td>\n",
       "      <td>7</td>\n",
       "      <td>album</td>\n",
       "      <td>https://i.scdn.co/image/ab67616d00004851ab0d87...</td>\n",
       "    </tr>\n",
       "    <tr>\n",
       "      <th>13</th>\n",
       "      <td>Macadelic (Remastered Edition)</td>\n",
       "      <td>2012-03-23</td>\n",
       "      <td>17</td>\n",
       "      <td>album</td>\n",
       "      <td>https://i.scdn.co/image/ab67616d00004851908afd...</td>\n",
       "    </tr>\n",
       "    <tr>\n",
       "      <th>14</th>\n",
       "      <td>Blue Slide Park (Commentary Version)</td>\n",
       "      <td>2011-11-15</td>\n",
       "      <td>32</td>\n",
       "      <td>album</td>\n",
       "      <td>https://i.scdn.co/image/ab67616d0000485121315e...</td>\n",
       "    </tr>\n",
       "    <tr>\n",
       "      <th>15</th>\n",
       "      <td>Blue Slide Park (Edited Version)</td>\n",
       "      <td>2011-11-15</td>\n",
       "      <td>16</td>\n",
       "      <td>album</td>\n",
       "      <td>https://i.scdn.co/image/ab67616d000048515bd1d1...</td>\n",
       "    </tr>\n",
       "    <tr>\n",
       "      <th>16</th>\n",
       "      <td>Blue Slide Park</td>\n",
       "      <td>2011-11-08</td>\n",
       "      <td>16</td>\n",
       "      <td>album</td>\n",
       "      <td>https://i.scdn.co/image/ab67616d0000485182a2fe...</td>\n",
       "    </tr>\n",
       "    <tr>\n",
       "      <th>17</th>\n",
       "      <td>K.I.D.S. (Deluxe)</td>\n",
       "      <td>2010-08-13</td>\n",
       "      <td>18</td>\n",
       "      <td>album</td>\n",
       "      <td>https://i.scdn.co/image/ab67616d00004851f47866...</td>\n",
       "    </tr>\n",
       "    <tr>\n",
       "      <th>18</th>\n",
       "      <td>K.I.D.S.</td>\n",
       "      <td>2010-08-13</td>\n",
       "      <td>16</td>\n",
       "      <td>album</td>\n",
       "      <td>https://i.scdn.co/image/ab67616d00004851505701...</td>\n",
       "    </tr>\n",
       "    <tr>\n",
       "      <th>19</th>\n",
       "      <td>Colors and Shapes</td>\n",
       "      <td>2021-09-15</td>\n",
       "      <td>1</td>\n",
       "      <td>album</td>\n",
       "      <td>https://i.scdn.co/image/ab67616d000048518106d9...</td>\n",
       "    </tr>\n",
       "  </tbody>\n",
       "</table>\n",
       "</div>"
      ],
      "text/plain": [
       "                                           album_name release_date  \\\n",
       "0                                               Faces   2021-10-15   \n",
       "1                                    Circles (Deluxe)   2020-03-19   \n",
       "2                                             Circles   2020-01-17   \n",
       "3                                            Swimming   2018-08-03   \n",
       "4                                 The Divine Feminine   2016-09-16   \n",
       "5                                 The Divine Feminine   2016-09-16   \n",
       "6   Best Day Ever (5th Anniversary Remastered Edit...   2016-06-03   \n",
       "7                                            GO:OD AM   2015-09-18   \n",
       "8                                            GO:OD AM   2015-09-18   \n",
       "9                                     Live From Space   2013-12-17   \n",
       "10  Watching Movies with the Sound Off (Deluxe Edi...   2013-06-18   \n",
       "11                 Watching Movies with the Sound Off   2013-06-18   \n",
       "12  Mac Miller : Live From London (With The Internet)   2013-01-01   \n",
       "13                     Macadelic (Remastered Edition)   2012-03-23   \n",
       "14               Blue Slide Park (Commentary Version)   2011-11-15   \n",
       "15                   Blue Slide Park (Edited Version)   2011-11-15   \n",
       "16                                    Blue Slide Park   2011-11-08   \n",
       "17                                  K.I.D.S. (Deluxe)   2010-08-13   \n",
       "18                                           K.I.D.S.   2010-08-13   \n",
       "19                                  Colors and Shapes   2021-09-15   \n",
       "\n",
       "    songs_on_album album_type  \\\n",
       "0               25      album   \n",
       "1               14      album   \n",
       "2               12      album   \n",
       "3               13      album   \n",
       "4               10      album   \n",
       "5               10      album   \n",
       "6               16      album   \n",
       "7               17      album   \n",
       "8               17      album   \n",
       "9               14      album   \n",
       "10              19      album   \n",
       "11              16      album   \n",
       "12               7      album   \n",
       "13              17      album   \n",
       "14              32      album   \n",
       "15              16      album   \n",
       "16              16      album   \n",
       "17              18      album   \n",
       "18              16      album   \n",
       "19               1      album   \n",
       "\n",
       "                                            image_url  \n",
       "0   https://i.scdn.co/image/ab67616d00004851e4251c...  \n",
       "1   https://i.scdn.co/image/ab67616d000048518cbe65...  \n",
       "2   https://i.scdn.co/image/ab67616d0000485126b7dd...  \n",
       "3   https://i.scdn.co/image/ab67616d00004851175c57...  \n",
       "4   https://i.scdn.co/image/ab67616d000048512e92f7...  \n",
       "5   https://i.scdn.co/image/ab67616d00004851a5677f...  \n",
       "6   https://i.scdn.co/image/ab67616d00004851caed62...  \n",
       "7   https://i.scdn.co/image/ab67616d00004851ee0f38...  \n",
       "8   https://i.scdn.co/image/ab67616d000048510726f1...  \n",
       "9   https://i.scdn.co/image/ab67616d000048514052e9...  \n",
       "10  https://i.scdn.co/image/ab67616d00004851d4300b...  \n",
       "11  https://i.scdn.co/image/ab67616d0000485199eb56...  \n",
       "12  https://i.scdn.co/image/ab67616d00004851ab0d87...  \n",
       "13  https://i.scdn.co/image/ab67616d00004851908afd...  \n",
       "14  https://i.scdn.co/image/ab67616d0000485121315e...  \n",
       "15  https://i.scdn.co/image/ab67616d000048515bd1d1...  \n",
       "16  https://i.scdn.co/image/ab67616d0000485182a2fe...  \n",
       "17  https://i.scdn.co/image/ab67616d00004851f47866...  \n",
       "18  https://i.scdn.co/image/ab67616d00004851505701...  \n",
       "19  https://i.scdn.co/image/ab67616d000048518106d9...  "
      ]
     },
     "execution_count": 76,
     "metadata": {},
     "output_type": "execute_result"
    }
   ],
   "source": [
    "get_album_info(data)"
   ]
  }
 ],
 "metadata": {
  "interpreter": {
   "hash": "916dbcbb3f70747c44a77c7bcd40155683ae19c65e1c03b4aa3499c5328201f1"
  },
  "kernelspec": {
   "display_name": "Python 3.8.5 64-bit",
   "language": "python",
   "name": "python3"
  },
  "language_info": {
   "codemirror_mode": {
    "name": "ipython",
    "version": 3
   },
   "file_extension": ".py",
   "mimetype": "text/x-python",
   "name": "python",
   "nbconvert_exporter": "python",
   "pygments_lexer": "ipython3",
   "version": "3.8.5"
  },
  "orig_nbformat": 4
 },
 "nbformat": 4,
 "nbformat_minor": 2
}
