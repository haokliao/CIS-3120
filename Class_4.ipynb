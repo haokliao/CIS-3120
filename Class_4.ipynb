{
 "cells": [
  {
   "cell_type": "code",
   "execution_count": 24,
   "metadata": {},
   "outputs": [],
   "source": [
    "savings = {\n",
    "    'Jan': [45,80,12,10],\n",
    "    'Feb': [0,100,159,20],\n",
    "    'Mar': [30,20,45,90]\n",
    "}\n",
    "\n"
   ]
  },
  {
   "cell_type": "code",
   "execution_count": 29,
   "metadata": {},
   "outputs": [
    {
     "data": {
      "text/plain": [
       "611"
      ]
     },
     "execution_count": 29,
     "metadata": {},
     "output_type": "execute_result"
    }
   ],
   "source": [
    "total_savings = []\n",
    "for i in savings:\n",
    "    total_savings += savings[i]\n",
    "sum(total_savings)    # total_savings = sum(total_savings)\n"
   ]
  },
  {
   "cell_type": "markdown",
   "metadata": {},
   "source": [
    "Refer to 2_27 github.io scraping wikipedia table"
   ]
  },
  {
   "cell_type": "code",
   "execution_count": 1,
   "metadata": {},
   "outputs": [],
   "source": [
    "import pandas as pd"
   ]
  },
  {
   "cell_type": "code",
   "execution_count": 2,
   "metadata": {},
   "outputs": [],
   "source": [
    "roster = {\n",
    "    \"Name\": [\"Kev\",\"Kevin\",\"Kevon\",\"Kai\"],\n",
    "    \"Major\": [\"Accounting\",\"Finance\",\"CIS\",\"Cyber\"],\n",
    "    \"GPA\": [3.5,3.6,3.7,3.8],\n",
    "    \"Age\": [22,23,24,25],\n",
    "}"
   ]
  },
  {
   "cell_type": "code",
   "execution_count": 4,
   "metadata": {},
   "outputs": [
    {
     "data": {
      "text/html": [
       "<div>\n",
       "<style scoped>\n",
       "    .dataframe tbody tr th:only-of-type {\n",
       "        vertical-align: middle;\n",
       "    }\n",
       "\n",
       "    .dataframe tbody tr th {\n",
       "        vertical-align: top;\n",
       "    }\n",
       "\n",
       "    .dataframe thead th {\n",
       "        text-align: right;\n",
       "    }\n",
       "</style>\n",
       "<table border=\"1\" class=\"dataframe\">\n",
       "  <thead>\n",
       "    <tr style=\"text-align: right;\">\n",
       "      <th></th>\n",
       "      <th>Name</th>\n",
       "      <th>Major</th>\n",
       "      <th>GPA</th>\n",
       "      <th>Age</th>\n",
       "    </tr>\n",
       "  </thead>\n",
       "  <tbody>\n",
       "    <tr>\n",
       "      <th>0</th>\n",
       "      <td>Kev</td>\n",
       "      <td>Accounting</td>\n",
       "      <td>3.5</td>\n",
       "      <td>22</td>\n",
       "    </tr>\n",
       "    <tr>\n",
       "      <th>1</th>\n",
       "      <td>Kevin</td>\n",
       "      <td>Finance</td>\n",
       "      <td>3.6</td>\n",
       "      <td>23</td>\n",
       "    </tr>\n",
       "    <tr>\n",
       "      <th>2</th>\n",
       "      <td>Kevon</td>\n",
       "      <td>CIS</td>\n",
       "      <td>3.7</td>\n",
       "      <td>24</td>\n",
       "    </tr>\n",
       "    <tr>\n",
       "      <th>3</th>\n",
       "      <td>Kai</td>\n",
       "      <td>Cyber</td>\n",
       "      <td>3.8</td>\n",
       "      <td>25</td>\n",
       "    </tr>\n",
       "  </tbody>\n",
       "</table>\n",
       "</div>"
      ],
      "text/plain": [
       "    Name       Major  GPA  Age\n",
       "0    Kev  Accounting  3.5   22\n",
       "1  Kevin     Finance  3.6   23\n",
       "2  Kevon         CIS  3.7   24\n",
       "3    Kai       Cyber  3.8   25"
      ]
     },
     "execution_count": 4,
     "metadata": {},
     "output_type": "execute_result"
    }
   ],
   "source": [
    "roster_df = pd.DataFrame(roster)\n",
    "roster_df"
   ]
  }
 ],
 "metadata": {
  "interpreter": {
   "hash": "99e433876e36e722b4552129cc1f55cd5b68a985b4df7c43975a37b6cc7fc019"
  },
  "kernelspec": {
   "display_name": "Python 3.8.11 ('base')",
   "language": "python",
   "name": "python3"
  },
  "language_info": {
   "codemirror_mode": {
    "name": "ipython",
    "version": 3
   },
   "file_extension": ".py",
   "mimetype": "text/x-python",
   "name": "python",
   "nbconvert_exporter": "python",
   "pygments_lexer": "ipython3",
   "version": "3.8.11"
  },
  "orig_nbformat": 4
 },
 "nbformat": 4,
 "nbformat_minor": 2
}
