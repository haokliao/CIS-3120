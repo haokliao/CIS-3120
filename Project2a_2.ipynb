{
 "cells": [
  {
   "cell_type": "markdown",
   "metadata": {},
   "source": [
    "Outline:\n",
    "The program will compute football statistics. The program will read in the id number\n",
    "and the win-loss-tie record of a football team. It will compute various things about the\n",
    "team, and it will print everything out. Then it will repeat the process for a new team,\n",
    "over and over again, until the entire set of data has been taken care of. At the end, it\n",
    "will print the number of teams.\n"
   ]
  },
  {
   "cell_type": "code",
   "execution_count": 90,
   "metadata": {},
   "outputs": [],
   "source": [
    "dataset = {\n",
    "  'team1': [1234,14,1,2],\n",
    "  'team2': [5678,13,2,1],\n",
    "  'team3': [6789,12,3,1],\n",
    "  'team4': [1515,6,2,6],\n",
    "  'team5': [6654,2,3,3],\n",
    "  'team6': [6969,10,0,0],\n",
    "  'team7': [9696,0,10,0],\n",
    "  'team8': [7070,0,0,10]\n",
    "}"
   ]
  },
  {
   "cell_type": "code",
   "execution_count": 107,
   "metadata": {},
   "outputs": [],
   "source": [
    "def football_stats(id,wins,losses,ties):\n",
    "  print(f'Team {id}')\n",
    "  print(f'{wins} wins {losses} losses {ties} ties')\n",
    "\n",
    "  games_played = int(wins+losses+ties)\n",
    "\n",
    "  if games_played >= 16: \n",
    "    games_remaining = 'Team season is finished'\n",
    "    print(games_remaining)\n",
    "  else:\n",
    "    games_remaining = 16-games_played\n",
    "    print(f'The total number of games played is {games_played}, there are still {games_remaining} games still remaining')\n",
    "\n",
    "  winning_avg = (\"{:.4f}\".format(wins/games_played))\n",
    "  print(f'The winning average is {winning_avg}')\n",
    "\n",
    "  if ties >= wins:\n",
    "    print('Number of games tied is greater or equal to number won')\n",
    "  else:\n",
    "    print('Number of games tied is NOT greater or equal to number won')\n",
    "\n",
    "  if ties > losses:\n",
    "    print('Number of games tied is greater than number lost')\n",
    "  else:\n",
    "    print('Number of games tied is NOT greater than number lost')\n",
    "\n",
    "  wip_total = int(wins + ties - (3*losses))\n",
    "  if wip_total <= 0 :\n",
    "    wip_total = 0\n",
    "  return (f'The WIP total is {wip_total} \\n \\n')"
   ]
  },
  {
   "cell_type": "code",
   "execution_count": 106,
   "metadata": {},
   "outputs": [
    {
     "name": "stdout",
     "output_type": "stream",
     "text": [
      "Team 1234\n",
      "14 wins 1 losses 2 ties\n",
      "Team season is finished\n",
      "The winning average is 0.8235\n",
      "Number of games tied is NOT greater or equal to number won\n",
      "Number of games tied is greater than number lost\n",
      "The WIP total is 13 \n",
      " \n",
      "\n",
      "Team 5678\n",
      "13 wins 2 losses 1 ties\n",
      "Team season is finished\n",
      "The winning average is 0.8125\n",
      "Number of games tied is NOT greater or equal to number won\n",
      "Number of games tied is NOT greater than number lost\n",
      "The WIP total is 8 \n",
      " \n",
      "\n",
      "Team 6789\n",
      "12 wins 3 losses 1 ties\n",
      "Team season is finished\n",
      "The winning average is 0.7500\n",
      "Number of games tied is NOT greater or equal to number won\n",
      "Number of games tied is NOT greater than number lost\n",
      "The WIP total is 4 \n",
      " \n",
      "\n",
      "Team 1515\n",
      "6 wins 2 losses 6 ties\n",
      "The total number of games played is 14, there are still 2 games still remaining\n",
      "The winning average is 0.4286\n",
      "Number of games tied is greater or equal to number won\n",
      "Number of games tied is greater than number lost\n",
      "The WIP total is 6 \n",
      " \n",
      "\n",
      "Team 6654\n",
      "2 wins 3 losses 3 ties\n",
      "The total number of games played is 8, there are still 8 games still remaining\n",
      "The winning average is 0.2500\n",
      "Number of games tied is greater or equal to number won\n",
      "Number of games tied is NOT greater than number lost\n",
      "The WIP total is 0 \n",
      " \n",
      "\n",
      "Team 6969\n",
      "10 wins 0 losses 0 ties\n",
      "The total number of games played is 10, there are still 6 games still remaining\n",
      "The winning average is 1.0000\n",
      "Number of games tied is NOT greater or equal to number won\n",
      "Number of games tied is NOT greater than number lost\n",
      "The WIP total is 10 \n",
      " \n",
      "\n",
      "Team 9696\n",
      "0 wins 10 losses 0 ties\n",
      "The total number of games played is 10, there are still 6 games still remaining\n",
      "The winning average is 0.0000\n",
      "Number of games tied is greater or equal to number won\n",
      "Number of games tied is NOT greater than number lost\n",
      "The WIP total is 0 \n",
      " \n",
      "\n",
      "Team 7070\n",
      "0 wins 0 losses 10 ties\n",
      "The total number of games played is 10, there are still 6 games still remaining\n",
      "The winning average is 0.0000\n",
      "Number of games tied is greater or equal to number won\n",
      "Number of games tied is greater than number lost\n",
      "The WIP total is 10 \n",
      " \n",
      "\n",
      "The total number of teams processed is 8\n"
     ]
    }
   ],
   "source": [
    "for i in dataset:\n",
    "  print(football_stats(*dataset[i]))\n",
    "print(f'The total number of teams processed is {len(dataset)}')"
   ]
  }
 ],
 "metadata": {
  "interpreter": {
   "hash": "916dbcbb3f70747c44a77c7bcd40155683ae19c65e1c03b4aa3499c5328201f1"
  },
  "kernelspec": {
   "display_name": "Python 3.8.5 64-bit",
   "language": "python",
   "name": "python3"
  },
  "language_info": {
   "codemirror_mode": {
    "name": "ipython",
    "version": 3
   },
   "file_extension": ".py",
   "mimetype": "text/x-python",
   "name": "python",
   "nbconvert_exporter": "python",
   "pygments_lexer": "ipython3",
   "version": "3.8.5"
  },
  "orig_nbformat": 4
 },
 "nbformat": 4,
 "nbformat_minor": 2
}
