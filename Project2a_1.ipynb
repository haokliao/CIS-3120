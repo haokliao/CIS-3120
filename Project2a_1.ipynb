{
 "cells": [
  {
   "cell_type": "code",
   "execution_count": 51,
   "metadata": {},
   "outputs": [],
   "source": [
    "#importing libraries for graphing\n",
    "import numpy as np\n",
    "import matplotlib.pyplot as plt"
   ]
  },
  {
   "cell_type": "markdown",
   "metadata": {},
   "source": [
    "![Picture](CIS3120_Project2_q1.png)\n"
   ]
  },
  {
   "cell_type": "code",
   "execution_count": 35,
   "metadata": {},
   "outputs": [],
   "source": [
    "#creating solver function to avoid repeated code\n",
    "def solver(x):\n",
    "  #breaking up problem\n",
    "  numerator = 4*(x**3) - 12*(x**2) - 9*(x) + 27\n",
    "  denominator = ((5*(x**2) + 2)**.5) + 3 * (abs(x-2.5))\n",
    "  y = numerator/denominator\n",
    "\n",
    "  if y > 0 :\n",
    "    output_value = 'POSITIVE'\n",
    "  elif y < 0 :\n",
    "    output_value = 'NEGATIVE'\n",
    "  else:\n",
    "    output_value = 'ZERO'\n",
    "\n",
    "  #returning answer in required format\n",
    "  return f'X = {x} Y = {y} Y IS {output_value}'\n"
   ]
  },
  {
   "cell_type": "code",
   "execution_count": 42,
   "metadata": {},
   "outputs": [
    {
     "name": "stdout",
     "output_type": "stream",
     "text": [
      "X = -3.0 Y = -6.9362217746283275 Y IS NEGATIVE\n",
      "X = -2.5 Y = -4.2376388309490745 Y IS NEGATIVE\n",
      "X = -2.0 Y = -1.9240901616610293 Y IS NEGATIVE\n",
      "X = -1.5 Y = 0.0 Y IS ZERO\n",
      "X = -1.0 Y = 1.5214041043942683 Y IS POSITIVE\n",
      "X = -0.5 Y = 2.5919264584373525 Y IS POSITIVE\n",
      "X = 0.0 Y = 3.0288706694179983 Y IS POSITIVE\n",
      "X = 0.5 Y = 2.563190450240003 Y IS POSITIVE\n",
      "X = 1.0 Y = 1.399432972781441 Y IS POSITIVE\n",
      "X = 1.5 Y = 0.0 Y IS ZERO\n",
      "X = 2.0 Y = -1.1307802693045066 Y IS NEGATIVE\n",
      "X = 2.5 Y = -1.387375951238592 Y IS NEGATIVE\n",
      "X = 3.0 Y = 0.0 Y IS ZERO\n",
      "X = 3.5 Y = 1.8259859392786852 Y IS POSITIVE\n",
      "X = 4.0 Y = 4.057428058260047 Y IS POSITIVE\n"
     ]
    }
   ],
   "source": [
    "#iterating in a range from -3 to 4.0 with a 0.5 step \n",
    "for i in np.arange(-3,4.5,.5):\n",
    "  print(solver(i))\n",
    "print('The first program is complete')"
   ]
  },
  {
   "cell_type": "code",
   "execution_count": 57,
   "metadata": {},
   "outputs": [],
   "source": [
    "#graphing \n",
    "def graph(formula, x_range):\n",
    "    x = np.array(x_range)  \n",
    "    y = eval(formula)\n",
    "    plt.plot(x, y)  \n",
    "    plt.show()"
   ]
  },
  {
   "cell_type": "code",
   "execution_count": 69,
   "metadata": {},
   "outputs": [
    {
     "data": {
      "image/png": "[encoded data removed]",
      "text/plain": [
       "<Figure size 432x288 with 1 Axes>"
      ]
     },
     "metadata": {
      "needs_background": "light"
     },
     "output_type": "display_data"
    }
   ],
   "source": [
    "graph('(4*(x**3) - 12*(x**2) - 9*(x) + 27/(((5*(x**2) + 2)**.5) + 3 * (abs(x-2.5))))', np.arange(-3,4.5,.5))\n"
   ]
  }
 ],
 "metadata": {
  "interpreter": {
   "hash": "916dbcbb3f70747c44a77c7bcd40155683ae19c65e1c03b4aa3499c5328201f1"
  },
  "kernelspec": {
   "display_name": "Python 3.8.5 64-bit",
   "language": "python",
   "name": "python3"
  },
  "language_info": {
   "codemirror_mode": {
    "name": "ipython",
    "version": 3
   },
   "file_extension": ".py",
   "mimetype": "text/x-python",
   "name": "python",
   "nbconvert_exporter": "python",
   "pygments_lexer": "ipython3",
   "version": "3.8.5"
  },
  "orig_nbformat": 4
 },
 "nbformat": 4,
 "nbformat_minor": 2
}
