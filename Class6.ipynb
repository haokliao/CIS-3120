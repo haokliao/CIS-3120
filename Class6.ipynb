{
 "cells": [
  {
   "cell_type": "code",
   "execution_count": null,
   "metadata": {},
   "outputs": [],
   "source": [
    "{\n",
    "    \"message\": \"success\",\n",
    "    \"number\": 7,\n",
    "    \"people\": [\n",
    "        {\n",
    "            \"craft\": \"ISS\",\n",
    "            \"name\": \"Sergey Ryzhikov\"\n",
    "        },\n",
    "        {\n",
    "            \"craft\": \"ISS\",\n",
    "            \"name\": \"Kate Rubins\"\n",
    "        },\n",
    "        {\n",
    "            \"craft\": \"ISS\",\n",
    "            \"name\": \"Sergey Kud-Sverchkov\"\n",
    "        },\n",
    "        {\n",
    "            \"craft\": \"ISS\",\n",
    "            \"name\": \"Mike Hopkins\"\n",
    "        },\n",
    "        {\n",
    "            \"craft\": \"ISS\",\n",
    "            \"name\": \"Victor Glover\"\n",
    "        },\n",
    "        {\n",
    "            \"craft\": \"ISS\",\n",
    "            \"name\": \"Shannon Walker\"\n",
    "        },\n",
    "        {\n",
    "            \"craft\": \"ISS\",\n",
    "            \"name\": \"Soichi Noguchi\"\n",
    "        }\n",
    "    ]"
   ]
  }
 ],
 "metadata": {
  "language_info": {
   "name": "python"
  },
  "orig_nbformat": 4
 },
 "nbformat": 4,
 "nbformat_minor": 2
}
